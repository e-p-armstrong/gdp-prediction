{
 "cells": [
  {
   "cell_type": "code",
   "execution_count": 44,
   "id": "9f6e1630",
   "metadata": {},
   "outputs": [],
   "source": [
    "import tensorflow as tf\n",
    "from tensorflow.keras.models import Sequential\n",
    "from tensorflow.keras.layers import Dense, Conv2D, Flatten, MaxPooling2D\n",
    "from tensorflow.keras.activations import linear, relu, sigmoid\n",
    "import numpy as np\n",
    "import pandas as pd\n",
    "from sklearn.preprocessing import StandardScaler\n",
    "from tensorflow.keras.optimizers.legacy import Adam\n",
    "from tensorflow.keras.regularizers import L2\n",
    "from tensorflow.keras.losses import MeanSquaredError\n",
    "import random\n",
    "from PIL import Image as im\n",
    "tf.random.set_seed(1048596)\n",
    "random.seed(1048596)"
   ]
  },
  {
   "cell_type": "code",
   "execution_count": 45,
   "id": "420249bd",
   "metadata": {},
   "outputs": [],
   "source": [
    "data_train = pd.read_csv(\"oecd_tidied_train.csv\").to_numpy()\n",
    "# print(data_train_2)\n",
    "\n",
    "scaler = StandardScaler()\n",
    "\n",
    "X = data_train[:,0:-2]\n",
    "y_train = data_train[:,-1:]\n",
    "# y_train = np.reshape(y_train,(-1,1))\n",
    "# print(X_train)\n",
    "\n",
    "X_train = scaler.fit_transform(X)\n",
    "# y_train = (y_train)\n",
    "# print(X_train)\n",
    "# print(\"\\n\\n And this is y_train\")\n",
    "# print(y_train)\n",
    "# print(y_train.shape)\n",
    "\n",
    "data_test = pd.read_csv(\"oecd_tidied_test.csv\").to_numpy()\n",
    "\n",
    "X_test = scaler.transform(data_test[:,0:-2])\n",
    "y_test = data_test[:,-1:]\n",
    "# y_test = np.reshape(y_test,(-1,1))\n",
    "# y_test = scaler.transform(y_test)"
   ]
  },
  {
   "cell_type": "code",
   "execution_count": 46,
   "id": "5655fcb5",
   "metadata": {},
   "outputs": [
    {
     "name": "stdout",
     "output_type": "stream",
     "text": [
      "[[ 7.44608000e+05  6.89228000e+05  7.47121000e+05 ...  1.82720100e+06\n",
      "   4.54381000e+05  1.93175000e+05]\n",
      " [ 1.26280693e+06  1.03200000e+03 -3.45250000e+04 ...  1.17027834e+05\n",
      "   2.13950000e+04  8.97500000e+03]\n",
      " [ 1.01960000e+04  3.03708000e+05  6.22254000e+05 ...  6.98585000e+05\n",
      "   1.60355000e+05  2.51104000e+05]\n",
      " ...\n",
      " [ 3.77000000e+02  4.28660000e+04  4.64550000e+04 ...  1.32000000e+04\n",
      "   4.43184000e+05  8.24399000e+05]\n",
      " [ 1.96540000e+04  7.20254000e+05  1.68424700e+06 ...  9.26720000e+05\n",
      "   2.19042745e+05  3.46000000e+02]\n",
      " [ 4.04854000e+05  4.14004000e+05  1.45150000e+04 ...  2.26460000e+04\n",
      "   1.42157300e+06  1.32386500e+06]]\n",
      "(1024, 720)\n"
     ]
    }
   ],
   "source": [
    "# Create modern art based off of the economy of the last 30 years\n",
    "# Because even if the model's a dud I'm getting something from this dammit\n",
    "X_train_2 = np.resize(X,(1024,720))\n",
    "print(X_train_2)\n",
    "print(X_train_2.shape)\n",
    "\n",
    "image = im.fromarray(X_train_2)\n",
    "image = image.convert(\"L\")\n",
    "image.save('modern_art_last_30_years_economies_2.png')\n"
   ]
  },
  {
   "cell_type": "code",
   "execution_count": 47,
   "id": "5d902696",
   "metadata": {},
   "outputs": [
    {
     "name": "stdout",
     "output_type": "stream",
     "text": [
      "Epoch 1/3000\n"
     ]
    },
    {
     "ename": "ValueError",
     "evalue": "in user code:\n\n    File \"/opt/homebrew/Caskroom/miniforge/base/envs/mlp/lib/python3.8/site-packages/keras/engine/training.py\", line 1051, in train_function  *\n        return step_function(self, iterator)\n    File \"/opt/homebrew/Caskroom/miniforge/base/envs/mlp/lib/python3.8/site-packages/keras/engine/training.py\", line 1040, in step_function  **\n        outputs = model.distribute_strategy.run(run_step, args=(data,))\n    File \"/opt/homebrew/Caskroom/miniforge/base/envs/mlp/lib/python3.8/site-packages/keras/engine/training.py\", line 1030, in run_step  **\n        outputs = model.train_step(data)\n    File \"/opt/homebrew/Caskroom/miniforge/base/envs/mlp/lib/python3.8/site-packages/keras/engine/training.py\", line 889, in train_step\n        y_pred = self(x, training=True)\n    File \"/opt/homebrew/Caskroom/miniforge/base/envs/mlp/lib/python3.8/site-packages/keras/utils/traceback_utils.py\", line 67, in error_handler\n        raise e.with_traceback(filtered_tb) from None\n    File \"/opt/homebrew/Caskroom/miniforge/base/envs/mlp/lib/python3.8/site-packages/keras/engine/input_spec.py\", line 228, in assert_input_compatibility\n        raise ValueError(f'Input {input_index} of layer \"{layer_name}\" '\n\n    ValueError: Exception encountered when calling layer \"sequential_10\" (type Sequential).\n    \n    Input 0 of layer \"conv2d_12\" is incompatible with the layer: expected min_ndim=4, found ndim=2. Full shape received: (None, 43)\n    \n    Call arguments received by layer \"sequential_10\" (type Sequential):\n      • inputs=tf.Tensor(shape=(None, 43), dtype=float32)\n      • training=True\n      • mask=None\n",
     "output_type": "error",
     "traceback": [
      "\u001b[0;31m---------------------------------------------------------------------------\u001b[0m",
      "\u001b[0;31mValueError\u001b[0m                                Traceback (most recent call last)",
      "Cell \u001b[0;32mIn[47], line 18\u001b[0m\n\u001b[1;32m      2\u001b[0m model \u001b[38;5;241m=\u001b[39m Sequential([\n\u001b[1;32m      3\u001b[0m     Conv2D(\u001b[38;5;241m32\u001b[39m,\u001b[38;5;241m3\u001b[39m),\n\u001b[1;32m      4\u001b[0m     MaxPooling2D((\u001b[38;5;241m3\u001b[39m,\u001b[38;5;241m3\u001b[39m)),\n\u001b[0;32m   (...)\u001b[0m\n\u001b[1;32m     13\u001b[0m     Dense(units \u001b[38;5;241m=\u001b[39m \u001b[38;5;241m1\u001b[39m, activation \u001b[38;5;241m=\u001b[39m \u001b[38;5;124m\"\u001b[39m\u001b[38;5;124mrelu\u001b[39m\u001b[38;5;124m\"\u001b[39m)\n\u001b[1;32m     14\u001b[0m ])\n\u001b[1;32m     16\u001b[0m model\u001b[38;5;241m.\u001b[39mcompile(optimizer\u001b[38;5;241m=\u001b[39mAdam(),loss\u001b[38;5;241m=\u001b[39mMeanSquaredError())\n\u001b[0;32m---> 18\u001b[0m \u001b[43mmodel\u001b[49m\u001b[38;5;241;43m.\u001b[39;49m\u001b[43mfit\u001b[49m\u001b[43m(\u001b[49m\u001b[43mX_train\u001b[49m\u001b[43m,\u001b[49m\u001b[43my_train\u001b[49m\u001b[43m,\u001b[49m\u001b[43mepochs\u001b[49m\u001b[38;5;241;43m=\u001b[39;49m\u001b[38;5;241;43m3000\u001b[39;49m\u001b[43m)\u001b[49m\n",
      "File \u001b[0;32m/opt/homebrew/Caskroom/miniforge/base/envs/mlp/lib/python3.8/site-packages/keras/utils/traceback_utils.py:67\u001b[0m, in \u001b[0;36mfilter_traceback.<locals>.error_handler\u001b[0;34m(*args, **kwargs)\u001b[0m\n\u001b[1;32m     65\u001b[0m \u001b[38;5;28;01mexcept\u001b[39;00m \u001b[38;5;167;01mException\u001b[39;00m \u001b[38;5;28;01mas\u001b[39;00m e:  \u001b[38;5;66;03m# pylint: disable=broad-except\u001b[39;00m\n\u001b[1;32m     66\u001b[0m   filtered_tb \u001b[38;5;241m=\u001b[39m _process_traceback_frames(e\u001b[38;5;241m.\u001b[39m__traceback__)\n\u001b[0;32m---> 67\u001b[0m   \u001b[38;5;28;01mraise\u001b[39;00m e\u001b[38;5;241m.\u001b[39mwith_traceback(filtered_tb) \u001b[38;5;28;01mfrom\u001b[39;00m \u001b[38;5;28mNone\u001b[39m\n\u001b[1;32m     68\u001b[0m \u001b[38;5;28;01mfinally\u001b[39;00m:\n\u001b[1;32m     69\u001b[0m   \u001b[38;5;28;01mdel\u001b[39;00m filtered_tb\n",
      "File \u001b[0;32m/var/folders/ky/hw_2k4fn3dvcm9n_kcqzl0xc0000gn/T/__autograph_generated_filegma86qa9.py:15\u001b[0m, in \u001b[0;36mouter_factory.<locals>.inner_factory.<locals>.tf__train_function\u001b[0;34m(iterator)\u001b[0m\n\u001b[1;32m     13\u001b[0m \u001b[38;5;28;01mtry\u001b[39;00m:\n\u001b[1;32m     14\u001b[0m     do_return \u001b[38;5;241m=\u001b[39m \u001b[38;5;28;01mTrue\u001b[39;00m\n\u001b[0;32m---> 15\u001b[0m     retval_ \u001b[38;5;241m=\u001b[39m ag__\u001b[38;5;241m.\u001b[39mconverted_call(ag__\u001b[38;5;241m.\u001b[39mld(step_function), (ag__\u001b[38;5;241m.\u001b[39mld(\u001b[38;5;28mself\u001b[39m), ag__\u001b[38;5;241m.\u001b[39mld(iterator)), \u001b[38;5;28;01mNone\u001b[39;00m, fscope)\n\u001b[1;32m     16\u001b[0m \u001b[38;5;28;01mexcept\u001b[39;00m:\n\u001b[1;32m     17\u001b[0m     do_return \u001b[38;5;241m=\u001b[39m \u001b[38;5;28;01mFalse\u001b[39;00m\n",
      "\u001b[0;31mValueError\u001b[0m: in user code:\n\n    File \"/opt/homebrew/Caskroom/miniforge/base/envs/mlp/lib/python3.8/site-packages/keras/engine/training.py\", line 1051, in train_function  *\n        return step_function(self, iterator)\n    File \"/opt/homebrew/Caskroom/miniforge/base/envs/mlp/lib/python3.8/site-packages/keras/engine/training.py\", line 1040, in step_function  **\n        outputs = model.distribute_strategy.run(run_step, args=(data,))\n    File \"/opt/homebrew/Caskroom/miniforge/base/envs/mlp/lib/python3.8/site-packages/keras/engine/training.py\", line 1030, in run_step  **\n        outputs = model.train_step(data)\n    File \"/opt/homebrew/Caskroom/miniforge/base/envs/mlp/lib/python3.8/site-packages/keras/engine/training.py\", line 889, in train_step\n        y_pred = self(x, training=True)\n    File \"/opt/homebrew/Caskroom/miniforge/base/envs/mlp/lib/python3.8/site-packages/keras/utils/traceback_utils.py\", line 67, in error_handler\n        raise e.with_traceback(filtered_tb) from None\n    File \"/opt/homebrew/Caskroom/miniforge/base/envs/mlp/lib/python3.8/site-packages/keras/engine/input_spec.py\", line 228, in assert_input_compatibility\n        raise ValueError(f'Input {input_index} of layer \"{layer_name}\" '\n\n    ValueError: Exception encountered when calling layer \"sequential_10\" (type Sequential).\n    \n    Input 0 of layer \"conv2d_12\" is incompatible with the layer: expected min_ndim=4, found ndim=2. Full shape received: (None, 43)\n    \n    Call arguments received by layer \"sequential_10\" (type Sequential):\n      • inputs=tf.Tensor(shape=(None, 43), dtype=float32)\n      • training=True\n      • mask=None\n"
     ]
    }
   ],
   "source": [
    "\n",
    "# # Set up model\n",
    "model = Sequential([\n",
    "#     Conv2D(32,3), # TODO: find a way to maybe implement conv2d, in hopes that identifying specific features will reduce bias. Though I probably just need more data. Try adding countries next time?\n",
    "#     MaxPooling2D((3,3)),\n",
    "#     Conv2D(64,3),\n",
    "#     MaxPooling2D((3,3)),\n",
    "#     Conv2D(128,3),\n",
    "#     MaxPooling2D((3,3)),\n",
    "#     Flatten(),\n",
    "    Dense(units = 256, activation = \"relu\", kernel_regularizer = L2(0.01)),\n",
    "    Dense(units = 128, activation = \"relu\", kernel_regularizer = L2(0.01)),\n",
    "    Dense(units = 64, activation = \"relu\", kernel_regularizer = L2(0.01)),\n",
    "    Dense(units = 1, activation = \"relu\")\n",
    "])\n",
    "\n",
    "model.compile(optimizer=Adam(),loss=MeanSquaredError())\n",
    "\n",
    "model.fit(X_train,y_train,epochs=3000)\n"
   ]
  },
  {
   "cell_type": "code",
   "execution_count": null,
   "id": "20b3d348",
   "metadata": {},
   "outputs": [],
   "source": []
  },
  {
   "cell_type": "code",
   "execution_count": 25,
   "id": "23caefd4",
   "metadata": {},
   "outputs": [
    {
     "name": "stdout",
     "output_type": "stream",
     "text": [
      "1/1 [==============================] - 0s 30ms/step\n",
      "train MSE\n",
      "[6.94275023e+08]\n",
      "1/1 [==============================] - 0s 17ms/step\n",
      "test MSE\n",
      "[1.77648041e+11]\n"
     ]
    },
    {
     "name": "stderr",
     "output_type": "stream",
     "text": [
      "2023-01-16 20:34:06.981281: I tensorflow/core/grappler/optimizers/custom_graph_optimizer_registry.cc:113] Plugin optimizer for device_type GPU is enabled.\n"
     ]
    }
   ],
   "source": [
    "# Use neural network to predict income\n",
    "\n",
    "## Predict on training dataset\n",
    "predictions_train = model.predict(X_train)\n",
    "#predictions_train = #np.where(probabilities_train >= 0.5, 1, 0)\n",
    "\n",
    "MSE = 0\n",
    "\n",
    "for i in range(len(predictions_train)):\n",
    "    MSE += (predictions_train[i] - y_train[i])**2\n",
    "MSE = MSE/len(predictions_train)\n",
    "print(\"train MSE\")\n",
    "print(MSE)\n",
    "\n",
    "##########\n",
    "\n",
    "predictions_test = model.predict(X_test)\n",
    "# predictions_test = np.where(probabilities_test >= 0.5, 1, 0)\n",
    "\n",
    "MSE = 0\n",
    "\n",
    "for i in range(len(predictions_test)):\n",
    "    MSE += (predictions_test[i] - y_test[i])**2\n",
    "MSE = MSE/len(predictions_test)\n",
    "\n",
    "print(\"test MSE\")\n",
    "print(MSE)\n"
   ]
  },
  {
   "cell_type": "code",
   "execution_count": null,
   "id": "93b3dd96",
   "metadata": {},
   "outputs": [],
   "source": []
  }
 ],
 "metadata": {
  "kernelspec": {
   "display_name": "Python 3 (ipykernel)",
   "language": "python",
   "name": "python3"
  },
  "language_info": {
   "codemirror_mode": {
    "name": "ipython",
    "version": 3
   },
   "file_extension": ".py",
   "mimetype": "text/x-python",
   "name": "python",
   "nbconvert_exporter": "python",
   "pygments_lexer": "ipython3",
   "version": "3.8.15"
  }
 },
 "nbformat": 4,
 "nbformat_minor": 5
}
